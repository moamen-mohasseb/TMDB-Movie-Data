{
 "cells": [
  {
   "cell_type": "markdown",
   "metadata": {},
   "source": [
    "\n",
    "\n",
    "# Project: Investigate a Dataset (Analysing TMDB Movie Data )\n",
    "\n",
    "## Table of Contents\n",
    "<ul>\n",
    "<li><a href=\"#intro\">Introduction</a></li>\n",
    "<li><a href=\"#wrangling\">Data Wrangling</a></li>\n",
    "<li><a href=\"#eda\">Exploratory Data Analysis</a></li>\n",
    "<li><a href=\"#conclusions\">Conclusions</a></li>\n",
    "</ul>"
   ]
  },
  {
   "cell_type": "markdown",
   "metadata": {},
   "source": [
    "<a id='intro'></a>\n",
    "## Introduction\n",
    "\n",
    "> **TMDB Movie Data**: This data set contains information about 10,000 movies collected from The Movie Database (TMDb), including user ratings and revenue .\n",
    ">\n",
    "> **Questions :**\n",
    ">\n",
    "> * Whats is the most movie have revenues?\n",
    "> \n",
    "> * what is the relation between geners and revenues ?\n",
    "> \n",
    "> * whitch director contribute in most of them ?\n",
    ">\n",
    "> * whitch movie make profit ? max profit? min profit?\n"
   ]
  },
  {
   "cell_type": "code",
   "execution_count": null,
   "metadata": {},
   "outputs": [],
   "source": [
    "# Use this cell to set up import statements for all of the packages that you\n",
    "#   plan to use.\n",
    "import pandas as pd\n",
    "import numpy as np\n",
    "from datetime import datetime\n",
    "import matplotlib.pyplot as plt\n",
    "%matplotlib inline\n",
    "import re\n",
    "# Remember to include a 'magic word' so that your visualizations are plotted\n",
    "#   inline with the notebook. See this page for more:\n",
    "#   http://ipython.readthedocs.io/en/stable/interactive/magics.html\n"
   ]
  },
  {
   "cell_type": "code",
   "execution_count": null,
   "metadata": {},
   "outputs": [],
   "source": []
  },
  {
   "cell_type": "markdown",
   "metadata": {},
   "source": [
    "<a id='wrangling'></a>\n",
    "## Data Wrangling\n",
    "\n",
    "> **Tip**: In this section of the report, you will load in the data, check for cleanliness, and then trim and clean your dataset for analysis. Make sure that you document your steps carefully and justify your cleaning decisions.\n",
    "\n",
    "### General Properties"
   ]
  },
  {
   "cell_type": "code",
   "execution_count": null,
   "metadata": {},
   "outputs": [],
   "source": [
    "# Load your data and print out a few lines. Perform operations to inspect data\n",
    "#   types and look for instances of missing or possibly errant data.\n",
    "tmdb_df=pd.read_csv(\"tmdb-movies.csv\")\n",
    "tmdb_df.head()"
   ]
  },
  {
   "cell_type": "code",
   "execution_count": null,
   "metadata": {},
   "outputs": [],
   "source": [
    "#review columns \n",
    "tmdb_df.info()"
   ]
  },
  {
   "cell_type": "code",
   "execution_count": null,
   "metadata": {},
   "outputs": [],
   "source": [
    "# check is there any duplication\n",
    "tmdb_df.duplicated().value_counts()"
   ]
  },
  {
   "cell_type": "code",
   "execution_count": null,
   "metadata": {},
   "outputs": [],
   "source": [
    "#\n",
    "tmdb_df.describe()"
   ]
  },
  {
   "cell_type": "markdown",
   "metadata": {},
   "source": [
    "> **Tip**: You should _not_ perform too many operations in each cell. Create cells freely to explore your data. One option that you can take with this project is to do a lot of explorations in an initial notebook. These don't have to be organized, but make sure you use enough comments to understand the purpose of each code cell. Then, after you're done with your analysis, create a duplicate notebook where you will trim the excess and organize your steps so that you have a flowing, cohesive report.\n",
    "\n",
    "> **Tip**: Make sure that you keep your reader informed on the steps that you are taking in your investigation. Follow every code cell, or every set of related code cells, with a markdown cell to describe to the reader what was found in the preceding cell(s). Try to make it so that the reader can then understand what they will be seeing in the following cell(s).\n",
    "\n",
    "### Data Cleaning (Replace this with more specific notes!)\n",
    "> * Remove duplicate Data\n",
    "> * Some columns we didnot need them [id,imdb_id,popularity]\n",
    "> * Change data type of release_date  to be date time\n",
    "> * Change data type of budget_adj and revenue_adj to be Integer as no need for fractions in millions no.\n",
    "> * Although budget,revenue & budget_adj,revenue_adj has the same information but i will keep both of them as\n",
    "we need budget,revenue as basic data and need budget_adj,revenue_adj for statistics purboses .\n",
    "> * Drop all Rows whitch has budget_adj,revenue_adj less than 1000$  as the data seems to be wrong .\n",
    "> * Some movies run time = 0 but we will do nothing as this column will be removed with rows with 0 budget ."
   ]
  },
  {
   "cell_type": "code",
   "execution_count": null,
   "metadata": {},
   "outputs": [],
   "source": [
    "# Make copy of data to clean\n",
    "tmdb_df_cleaned=tmdb_df.copy()"
   ]
  },
  {
   "cell_type": "code",
   "execution_count": null,
   "metadata": {
    "scrolled": true
   },
   "outputs": [],
   "source": [
    "#Drop duplicate values\n",
    "tmdb_df_cleaned.drop_duplicates(inplace=True)"
   ]
  },
  {
   "cell_type": "code",
   "execution_count": null,
   "metadata": {},
   "outputs": [],
   "source": [
    "#drop columns that i will not use  [id,imdb_id,popularity]\n",
    "tmdb_df_cleaned.drop(columns=['id','imdb_id','popularity'],inplace=True)"
   ]
  },
  {
   "cell_type": "code",
   "execution_count": null,
   "metadata": {},
   "outputs": [],
   "source": [
    "tmdb_df_cleaned.head(2)"
   ]
  },
  {
   "cell_type": "code",
   "execution_count": null,
   "metadata": {},
   "outputs": [],
   "source": [
    "#Change Data type of  release_date to date time\n",
    "tmdb_df_cleaned['release_date']=pd.to_datetime(tmdb_df_cleaned['release_date'])\n",
    "tmdb_df_cleaned.info()"
   ]
  },
  {
   "cell_type": "code",
   "execution_count": null,
   "metadata": {},
   "outputs": [],
   "source": [
    "tmdb_df_cleaned.head(2)"
   ]
  },
  {
   "cell_type": "code",
   "execution_count": null,
   "metadata": {
    "scrolled": true
   },
   "outputs": [],
   "source": [
    "#Change data type of budget_adj and revenue_adj to be Integer as no need for fractions in millions no.\n",
    "col=['budget_adj','revenue_adj']\n",
    "tmdb_df_cleaned[col]=tmdb_df_cleaned[col].astype(int)\n",
    "tmdb_df_cleaned.info()"
   ]
  },
  {
   "cell_type": "code",
   "execution_count": null,
   "metadata": {
    "scrolled": false
   },
   "outputs": [],
   "source": [
    "tmdb_df_cleaned.head(2)"
   ]
  },
  {
   "cell_type": "code",
   "execution_count": null,
   "metadata": {},
   "outputs": [],
   "source": [
    "# drop all data >1000$ in budget_adj and revenue_adj\n",
    "tmdb_df_cleaned=tmdb_df_cleaned[(tmdb_df_cleaned['budget_adj']>1000) & (tmdb_df_cleaned['revenue_adj']>1000)]\n",
    "tmdb_df_cleaned.info()"
   ]
  },
  {
   "cell_type": "markdown",
   "metadata": {},
   "source": [
    "<a id='eda'></a>\n",
    "## Exploratory Data Analysis\n",
    "\n",
    "> **Tip**: Now that you've trimmed and cleaned your data, you're ready to move on to exploration. Compute statistics and create visualizations with the goal of addressing the research questions that you posed in the Introduction section. It is recommended that you be systematic with your approach. Look at one variable at a time, and then follow it up by looking at relationships between variables.\n",
    "\n",
    "### Research Question 1 (Whats is the The highest revenue and lowest movie has revenues?)"
   ]
  },
  {
   "cell_type": "code",
   "execution_count": null,
   "metadata": {
    "scrolled": false
   },
   "outputs": [],
   "source": [
    "# movie with highest revenue\n",
    "tmdb_df_cleaned[tmdb_df_cleaned['revenue_adj']==tmdb_df_cleaned['revenue_adj'].max()]"
   ]
  },
  {
   "cell_type": "code",
   "execution_count": null,
   "metadata": {},
   "outputs": [],
   "source": [
    "tmdb_df_cleaned['revenue_adj'].describe()"
   ]
  },
  {
   "cell_type": "code",
   "execution_count": null,
   "metadata": {
    "scrolled": true
   },
   "outputs": [],
   "source": [
    "# movie with lowest revenue\n",
    "tmdb_df_cleaned[tmdb_df_cleaned['revenue_adj']==tmdb_df_cleaned['revenue_adj'].min()]"
   ]
  },
  {
   "cell_type": "code",
   "execution_count": null,
   "metadata": {},
   "outputs": [],
   "source": [
    "tmdb_df_cleaned['revenue_adj'].nlargest(10)"
   ]
  },
  {
   "cell_type": "code",
   "execution_count": null,
   "metadata": {
    "scrolled": false
   },
   "outputs": [],
   "source": [
    "tmdb_top_10_revenue=tmdb_df_cleaned[lambda x :x['revenue_adj'] >= 1385748801]\n",
    "tmdb_top_10_revenue.head(2)"
   ]
  },
  {
   "cell_type": "code",
   "execution_count": null,
   "metadata": {},
   "outputs": [],
   "source": [
    "tmdb_df_cleaned['revenue_adj'].nsmallest(10)"
   ]
  },
  {
   "cell_type": "code",
   "execution_count": null,
   "metadata": {
    "scrolled": true
   },
   "outputs": [],
   "source": [
    "tmdb_min_10_revenue=tmdb_df_cleaned[lambda x :x['revenue_adj'] <= 6310]\n",
    "tmdb_min_10_revenue"
   ]
  },
  {
   "cell_type": "code",
   "execution_count": null,
   "metadata": {},
   "outputs": [],
   "source": [
    "#Function to plot relation between x , y\n",
    "def plot_relation_rate(stage,xlabel,ylabel,message):\n",
    "    type(stage)\n",
    "    stage=stage.sort_values()\n",
    "    plt.figure(figsize=(14, 9))\n",
    "    plt.barh(stage.index,stage.array)\n",
    "    plt.xlabel(xlabel, fontsize = 14)\n",
    "    plt.title('relation between {} and {} {}'.format(xlabel,ylabel,message), fontsize = 16)\n",
    "    #plt.gca().invert_yaxis()\n",
    "    plt.show();"
   ]
  },
  {
   "cell_type": "code",
   "execution_count": null,
   "metadata": {
    "scrolled": true
   },
   "outputs": [],
   "source": [
    "top_stage=tmdb_top_10_revenue.groupby(['original_title'])['revenue_adj'].sum()\n",
    "top_stage.astype('int64')\n",
    "plot_relation_rate(top_stage,'Revenu','Movie',\"top 10\")"
   ]
  },
  {
   "cell_type": "code",
   "execution_count": null,
   "metadata": {},
   "outputs": [],
   "source": [
    "top_stage=tmdb_top_10_revenue.groupby(['director'])['revenue_adj'].sum()\n",
    "top_stage.astype('int64')\n",
    "plot_relation_rate(top_stage,'Revenu','Director',\"TOP 10\")"
   ]
  },
  {
   "cell_type": "code",
   "execution_count": null,
   "metadata": {},
   "outputs": [],
   "source": [
    "top_stage=tmdb_min_10_revenue.groupby(['director'])['revenue_adj'].sum()\n",
    "top_stage.astype('int64')\n",
    "plot_relation_rate(top_stage,'Revenu','Director','Lowest 10')"
   ]
  },
  {
   "cell_type": "code",
   "execution_count": null,
   "metadata": {},
   "outputs": [],
   "source": [
    "top_stage=tmdb_min_10_revenue.groupby(['original_title'])['revenue_adj'].sum()\n",
    "top_stage.astype('int64')\n",
    "plot_relation_rate(top_stage,'Revenu','Movie',\"Lowest 10\")"
   ]
  },
  {
   "cell_type": "markdown",
   "metadata": {},
   "source": [
    "### Research Question 2  (How many documentry movie there ?)"
   ]
  },
  {
   "cell_type": "code",
   "execution_count": null,
   "metadata": {},
   "outputs": [],
   "source": [
    "# How many documentry movie What about those movies profit and compare with all movies profit\n",
    "tmdb_df=tmdb_df_cleaned[tmdb_df_cleaned['genres'].str.contains('Documentary')]\n",
    "tmdb_df['profit']=tmdb_df['revenue_adj']-tmdb_df['budget_adj']\n",
    "tmdb_df"
   ]
  },
  {
   "cell_type": "code",
   "execution_count": null,
   "metadata": {},
   "outputs": [],
   "source": [
    "# there is about 35 documentary movie and the relation between profit and movies\n",
    "top_stage=tmdb_df.groupby(['original_title'])['profit'].sum()\n",
    "top_stage.astype('int64')\n",
    "plot_relation_rate(top_stage,'Profit','Documentry',\"Movie\")"
   ]
  },
  {
   "cell_type": "code",
   "execution_count": null,
   "metadata": {},
   "outputs": [],
   "source": [
    "# calculate the profit for all  movies\n",
    "tmdb_df_cleaned['profit']=tmdb_df_cleaned['revenue_adj']-tmdb_df_cleaned['budget_adj']"
   ]
  },
  {
   "cell_type": "code",
   "execution_count": null,
   "metadata": {},
   "outputs": [],
   "source": [
    "#compare the precentage of losing movies budget>revenue  in both all movies and documentry movies\n",
    "fail_d_movies=tmdb_df[tmdb_df['profit']<=0].count().max()\n",
    "all_d_movies=tmdb_df['profit'].count().max()\n",
    "percentage_fail_documentry_movies=(fail_d_movies/all_d_movies)*100\n",
    "percentage_fail_all_movies=((tmdb_df_cleaned[tmdb_df_cleaned['profit']<=0].count().max())/(tmdb_df_cleaned['profit'].count().max()))*100\n",
    "plt.figure(figsize=(14, 9))\n",
    "plt.barh(['percentage_fail_documentry_movies','percentage_fail_all_movies'],[percentage_fail_documentry_movies,percentage_fail_all_movies])\n",
    "plt.title('Relation between losing Documentry movies and all movies', fontsize = 16)\n",
    "plt.show();"
   ]
  },
  {
   "cell_type": "code",
   "execution_count": null,
   "metadata": {},
   "outputs": [],
   "source": [
    "tmdb_df_cleaned.to_csv(\"cleaned_tmdb.csv\",index=0)"
   ]
  },
  {
   "cell_type": "markdown",
   "metadata": {},
   "source": [
    "### Research Question 2  (Which cast , geners ,director has highest profit?)"
   ]
  },
  {
   "cell_type": "code",
   "execution_count": null,
   "metadata": {},
   "outputs": [],
   "source": [
    "#function to count each one and his occurance\n",
    "def data_occurance_rate_due_profit(data):\n",
    "    temparr={}\n",
    "    temp=data\n",
    "    for item in temp:\n",
    "        try:\n",
    "            data_temp=re.search(r'[\\w\\W]+',item).group().split('|')\n",
    "           # print(data_temp)\n",
    "            for item in data_temp:\n",
    "                if(item in temparr):\n",
    "                    temparr[item]=temparr[item]+1\n",
    "                else:\n",
    "                    temparr[item]=1\n",
    "        except :\n",
    "            print('message',item)\n",
    "            continue\n",
    "    return temparr"
   ]
  },
  {
   "cell_type": "code",
   "execution_count": null,
   "metadata": {
    "scrolled": true
   },
   "outputs": [],
   "source": [
    "d=data_occurance_rate_due_profit(tmdb_df_cleaned['genres'])"
   ]
  },
  {
   "cell_type": "code",
   "execution_count": null,
   "metadata": {},
   "outputs": [],
   "source": [
    "type(d)"
   ]
  },
  {
   "cell_type": "code",
   "execution_count": null,
   "metadata": {},
   "outputs": [],
   "source": [
    "d"
   ]
  },
  {
   "cell_type": "markdown",
   "metadata": {},
   "source": [
    "<a id='conclusions'></a>\n",
    "## Conclusions\n",
    "\n",
    "> **Tip**: Finally, summarize your findings and the results that have been performed. Make sure that you are clear with regards to the limitations of your exploration. If you haven't done any statistical tests, do not imply any statistical conclusions. And make sure you avoid implying causation from correlation!\n",
    "\n",
    "> **Tip**: Once you are satisfied with your work, you should save a copy of the report in HTML or PDF form via the **File** > **Download as** submenu. Before exporting your report, check over it to make sure that the flow of the report is complete. You should probably remove all of the \"Tip\" quotes like this one so that the presentation is as tidy as possible. Congratulations!"
   ]
  },
  {
   "cell_type": "code",
   "execution_count": null,
   "metadata": {},
   "outputs": [],
   "source": []
  }
 ],
 "metadata": {
  "kernelspec": {
   "display_name": "Python 3",
   "language": "python",
   "name": "python3"
  },
  "language_info": {
   "codemirror_mode": {
    "name": "ipython",
    "version": 3
   },
   "file_extension": ".py",
   "mimetype": "text/x-python",
   "name": "python",
   "nbconvert_exporter": "python",
   "pygments_lexer": "ipython3",
   "version": "3.8.3"
  }
 },
 "nbformat": 4,
 "nbformat_minor": 2
}
