{
 "cells": [
  {
   "cell_type": "markdown",
   "metadata": {},
   "source": [
    "\n",
    "\n",
    "# Project: Investigate a Dataset (Analysing TMDB Movie Data )\n",
    "\n",
    "## Table of Contents\n",
    "<ul>\n",
    "<li><a href=\"#intro\">Introduction</a></li>\n",
    "<li><a href=\"#wrangling\">Data Wrangling</a></li>\n",
    "<li><a href=\"#eda\">Exploratory Data Analysis</a></li>\n",
    "<li><a href=\"#conclusions\">Conclusions</a></li>\n",
    "</ul>"
   ]
  },
  {
   "cell_type": "markdown",
   "metadata": {},
   "source": [
    "<a id='intro'></a>\n",
    "## Introduction\n",
    "\n",
    "> **TMDB Movie Data**: This data set contains information about 10,000 movies collected from The Movie Database (TMDb), including user ratings and revenue.\n",
    ">\n",
    "> **Questions:**\n",
    ">\n",
    "> * Which movie has the highest Profit? Which movie has the lowest Profit?\n",
    ">\n",
    "> * How many documentary movies there? is investing in it waste money?\n",
    ">\n",
    "> * which director, cast, genres are in great demand?\n",
    ">\n",
    "> * Movies profits investigation increased or decreased every year? Is it a good investment?"
   ]
  },
  {
   "cell_type": "code",
   "execution_count": null,
   "metadata": {},
   "outputs": [],
   "source": [
    "import pandas as pd\n",
    "import numpy as np\n",
    "from datetime import datetime\n",
    "import matplotlib.pyplot as plt\n",
    "%matplotlib inline\n",
    "import re\n",
    "import collections"
   ]
  },
  {
   "cell_type": "markdown",
   "metadata": {},
   "source": [
    "<a id='wrangling'></a>\n",
    "## Data Wrangling\n",
    "\n",
    " Data Cleaning (Replace this with more specific notes!)\n",
    "> * Remove duplicate Data\n",
    "> * Some columns we didnot need them [id,imdb_id,popularity]\n",
    "> * Change data type of release_date  to be date time\n",
    "> * Change data type of budget_adj and revenue_adj to be Integer as no need for fractions in millions no.\n",
    "> * Although budget,revenue & budget_adj,revenue_adj has the same information but i will keep both of them as\n",
    "we need budget,revenue as basic data and need budget_adj,revenue_adj for statistics purboses .\n",
    "> * Drop all Rows whitch has budget_adj,revenue_adj less than 1000$  as the data seems to be wrong .\n",
    "> * Some movies run time = 0 but we will do nothing as this column will be removed with rows with 0 budget ."
   ]
  },
  {
   "cell_type": "code",
   "execution_count": null,
   "metadata": {},
   "outputs": [],
   "source": [
    "# Load tmdb-movies into pandas \n",
    "tmdb_df=pd.read_csv(\"tmdb-movies.csv\")\n",
    "tmdb_df.head()"
   ]
  },
  {
   "cell_type": "code",
   "execution_count": null,
   "metadata": {},
   "outputs": [],
   "source": [
    "#review columns \n",
    "tmdb_df.info()"
   ]
  },
  {
   "cell_type": "code",
   "execution_count": null,
   "metadata": {},
   "outputs": [],
   "source": [
    "# check is there any duplication\n",
    "tmdb_df.duplicated().value_counts()"
   ]
  },
  {
   "cell_type": "code",
   "execution_count": null,
   "metadata": {},
   "outputs": [],
   "source": [
    "# show statistics of whole data\n",
    "tmdb_df.describe()"
   ]
  },
  {
   "cell_type": "markdown",
   "metadata": {},
   "source": [
    "\n",
    "### Data Cleaning \n",
    "> * Remove duplicate Data\n",
    "> * Some columns we didnot need them [id,imdb_id,popularity]\n",
    "> * Change data type of release_date  to be date time\n",
    "> * Change data type of budget_adj and revenue_adj to be Integer as no need for fractions in millions no.\n",
    "> * Although budget,revenue & budget_adj,revenue_adj has the same information but i will keep both of them as\n",
    "we need budget,revenue as basic data and need budget_adj,revenue_adj for statistics purboses .\n",
    "> * Drop all Rows whitch has budget_adj,revenue_adj less than 100$  as the data seems to be wrong .\n",
    "> * Some movies run time = 0 but we will do nothing as this column will be removed with rows with 0 budget ."
   ]
  },
  {
   "cell_type": "code",
   "execution_count": null,
   "metadata": {},
   "outputs": [],
   "source": [
    "# Make copy of data to clean\n",
    "tmdb_df_cleaned=tmdb_df.copy()"
   ]
  },
  {
   "cell_type": "code",
   "execution_count": null,
   "metadata": {
    "scrolled": true
   },
   "outputs": [],
   "source": [
    "#Drop duplicate values\n",
    "tmdb_df_cleaned.drop_duplicates(inplace=True)"
   ]
  },
  {
   "cell_type": "code",
   "execution_count": null,
   "metadata": {},
   "outputs": [],
   "source": [
    "#drop columns that i will not use and contain no important data  [id,imdb_id,popularity] \n",
    "tmdb_df_cleaned.drop(columns=['id','imdb_id','popularity'],inplace=True)"
   ]
  },
  {
   "cell_type": "code",
   "execution_count": null,
   "metadata": {},
   "outputs": [],
   "source": [
    "#test the drop operation \n",
    "tmdb_df_cleaned.head(2)"
   ]
  },
  {
   "cell_type": "code",
   "execution_count": null,
   "metadata": {},
   "outputs": [],
   "source": [
    "#Change Data type of  release_date to date time\n",
    "tmdb_df_cleaned['release_date']=pd.to_datetime(tmdb_df_cleaned['release_date'])\n",
    "tmdb_df_cleaned.head(2)"
   ]
  },
  {
   "cell_type": "code",
   "execution_count": null,
   "metadata": {},
   "outputs": [],
   "source": [
    "#test Data type of  release_date\n",
    "tmdb_df_cleaned.info()"
   ]
  },
  {
   "cell_type": "code",
   "execution_count": null,
   "metadata": {
    "scrolled": true
   },
   "outputs": [],
   "source": [
    "#Change data type of budget_adj and revenue_adj to be Integer as no need for fractions in millions or billions .\n",
    "col=['budget_adj','revenue_adj']\n",
    "tmdb_df_cleaned[col]=tmdb_df_cleaned[col].astype(int)\n",
    "tmdb_df_cleaned.head(2)"
   ]
  },
  {
   "cell_type": "code",
   "execution_count": null,
   "metadata": {
    "scrolled": false
   },
   "outputs": [],
   "source": [
    "#test Change data type of budget_adj and revenue_adj\n",
    "tmdb_df_cleaned.info()"
   ]
  },
  {
   "cell_type": "code",
   "execution_count": null,
   "metadata": {},
   "outputs": [],
   "source": [
    "# drop all data >100$ in budget_adj and revenue_adj\n",
    "tmdb_df_cleaned=tmdb_df_cleaned[(tmdb_df_cleaned['budget_adj']>100) & (tmdb_df_cleaned['revenue_adj']>100)]\n",
    "tmdb_df_cleaned.head(2)"
   ]
  },
  {
   "cell_type": "code",
   "execution_count": null,
   "metadata": {},
   "outputs": [],
   "source": [
    "#test the drop operation \n",
    "tmdb_df_cleaned.info()"
   ]
  },
  {
   "cell_type": "markdown",
   "metadata": {},
   "source": [
    "<a id='eda'></a>\n",
    "## Exploratory Data Analysis\n",
    "\n",
    "> **Questions:**\n",
    ">\n",
    "> * Which movie has the highest Profit? Which movie has the lowest Profit?\n",
    ">\n",
    "> * How many documentary movies there? is investing in it waste money?\n",
    ">\n",
    "> * which director, cast, genres are in great demand?\n",
    ">\n",
    "> * Movies profits investigation increased or decreased every year? Is it a good investment?\n",
    "\n",
    "### Research Question 1 (Which movie has the highest Profit? Which movie has the lowest Profit?)"
   ]
  },
  {
   "cell_type": "code",
   "execution_count": null,
   "metadata": {},
   "outputs": [],
   "source": [
    "# calculate the profit for all  movies\n",
    "tmdb_df_cleaned['profit']=tmdb_df_cleaned['revenue_adj']-tmdb_df_cleaned['budget_adj']"
   ]
  },
  {
   "cell_type": "code",
   "execution_count": null,
   "metadata": {
    "scrolled": true
   },
   "outputs": [],
   "source": [
    "# movie with highest profit is 'Jaws' with profit 1878643093\n",
    "tmdb_df_cleaned[tmdb_df_cleaned['profit']==tmdb_df_cleaned['profit'].max()]"
   ]
  },
  {
   "cell_type": "code",
   "execution_count": null,
   "metadata": {},
   "outputs": [],
   "source": [
    "tmdb_df_cleaned['profit'].describe()"
   ]
  },
  {
   "cell_type": "code",
   "execution_count": null,
   "metadata": {
    "scrolled": true
   },
   "outputs": [],
   "source": [
    "# movie with lowest profit is \"The Warrior's Way\" movie lose 413912431 $ \n",
    "tmdb_df_cleaned[tmdb_df_cleaned['profit']==tmdb_df_cleaned['profit'].min()]"
   ]
  },
  {
   "cell_type": "code",
   "execution_count": null,
   "metadata": {},
   "outputs": [],
   "source": [
    "# Get highest 10 movie in profit\n",
    "tmdb_df_cleaned['profit'].nlargest(10)"
   ]
  },
  {
   "cell_type": "code",
   "execution_count": null,
   "metadata": {
    "scrolled": false
   },
   "outputs": [],
   "source": [
    "#get top_10  in pandas data frame\n",
    "tmdb_top_10_revenue=tmdb_df_cleaned[lambda x :x['profit'] >= 1246626367]\n",
    "tmdb_top_10_revenue.groupby('original_title')['profit'].sum()"
   ]
  },
  {
   "cell_type": "code",
   "execution_count": null,
   "metadata": {},
   "outputs": [],
   "source": [
    "# Get lowest 10 movie in profit\n",
    "tmdb_df_cleaned['profit'].nsmallest(10)"
   ]
  },
  {
   "cell_type": "code",
   "execution_count": null,
   "metadata": {
    "scrolled": true
   },
   "outputs": [],
   "source": [
    "#get min_10  in pandas data frame\n",
    "tmdb_min_10_revenue=tmdb_df_cleaned[lambda x :x['profit'] <= -91445050]\n",
    "tmdb_min_10_revenue.groupby('original_title')['profit'].sum()"
   ]
  },
  {
   "cell_type": "code",
   "execution_count": null,
   "metadata": {},
   "outputs": [],
   "source": [
    "#Function to plot relation between x , y get list and labels\n",
    "def plot_relation_rate(stage,xlabel,ylabel,message):\n",
    "    stage=stage.sort_values()\n",
    "    plt.figure(figsize=(14, 9))\n",
    "    plt.barh(stage.index,stage.array)\n",
    "    plt.xlabel(xlabel, fontsize = 14)\n",
    "    plt.ylabel(ylabel, fontsize = 14)\n",
    "    plt.title('relation between {} and {} {}'.format(xlabel,ylabel,message), fontsize = 16)\n",
    "    #plt.gca().invert_yaxis()\n",
    "    plt.show();"
   ]
  },
  {
   "cell_type": "code",
   "execution_count": null,
   "metadata": {
    "scrolled": true
   },
   "outputs": [],
   "source": [
    "# plot  highest 10 movie name \n",
    "top_stage=tmdb_top_10_revenue.groupby(['original_title'])['profit'].sum()\n",
    "plot_relation_rate(top_stage,'Profit','Movie Name',\"top 10\")"
   ]
  },
  {
   "cell_type": "code",
   "execution_count": null,
   "metadata": {},
   "outputs": [],
   "source": [
    "# plot  highest 10 directors with highest profit \n",
    "top_stage=tmdb_top_10_revenue.groupby(['director'])['profit'].sum()\n",
    "plot_relation_rate(top_stage,'Profit','Director Name',\"TOP 10\")"
   ]
  },
  {
   "cell_type": "code",
   "execution_count": null,
   "metadata": {},
   "outputs": [],
   "source": [
    "# plot  lowest 10 directors with lowest profit \n",
    "top_stage=tmdb_min_10_revenue.groupby(['director'])['profit'].sum()\n",
    "plot_relation_rate(top_stage,'profit','Director','Lowest 10')"
   ]
  },
  {
   "cell_type": "code",
   "execution_count": null,
   "metadata": {},
   "outputs": [],
   "source": [
    "# plot  lowest 10 movies name with lowest profit \n",
    "top_stage=tmdb_min_10_revenue.groupby(['original_title'])['profit'].sum()\n",
    "plot_relation_rate(top_stage,'profit','Movie name',\"Lowest 10\")"
   ]
  },
  {
   "cell_type": "markdown",
   "metadata": {},
   "source": [
    "### Research Question 2  (How many documentary movies there? is investing in it waste money?)"
   ]
  },
  {
   "cell_type": "code",
   "execution_count": null,
   "metadata": {},
   "outputs": [],
   "source": [
    "# How many documentry movie ? there are 35 .\n",
    "tmdb_df=tmdb_df_cleaned[tmdb_df_cleaned['genres'].str.contains('Documentary')]\n",
    "tmdb_df.info()"
   ]
  },
  {
   "cell_type": "code",
   "execution_count": null,
   "metadata": {},
   "outputs": [],
   "source": [
    "# there is about 35 documentary movie and the relation between profit and movies\n",
    "top_stage=tmdb_df.groupby(['original_title'])['profit'].sum()\n",
    "plot_relation_rate(top_stage,'Profit','Documentry',\"Movie\")"
   ]
  },
  {
   "cell_type": "markdown",
   "metadata": {},
   "source": [
    "> ####  From the figure we found that most of documentry movie has a good rate in profit\n",
    "> * Let's found the relation between percentage of all losing movies  and losing documentary movies"
   ]
  },
  {
   "cell_type": "code",
   "execution_count": null,
   "metadata": {},
   "outputs": [],
   "source": [
    "#compare the precentage of losing movies budget>revenue  in both all movies and documentry movies\n",
    "fail_d_movies=tmdb_df[tmdb_df['profit']<=0].count().max()\n",
    "all_d_movies=tmdb_df['profit'].count().max()\n",
    "percentage_fail_documentry_movies=(fail_d_movies/all_d_movies)*100\n",
    "percentage_fail_all_movies=((tmdb_df_cleaned[tmdb_df_cleaned['profit']<=0].count().max())/(tmdb_df_cleaned['profit'].count().max()))*100\n",
    "plt.figure(figsize=(14, 9))\n",
    "plt.barh(['percentage_fail_documentry_movies','percentage_fail_all_movies'],[percentage_fail_documentry_movies,percentage_fail_all_movies])\n",
    "plt.title('Relation between losing Documentry movies and all movies', fontsize = 16)\n",
    "plt.show();"
   ]
  },
  {
   "cell_type": "code",
   "execution_count": null,
   "metadata": {
    "scrolled": true
   },
   "outputs": [],
   "source": [
    "print (\"The percentage_fail_documentry_movies = \",percentage_fail_documentry_movies,'and percentage_fail_all_movies =',percentage_fail_all_movies)"
   ]
  },
  {
   "cell_type": "markdown",
   "metadata": {},
   "source": [
    "> ####  From the figure we found that most of documentry movie has a good success rate which is almost less than the loss rate in movies in general we can conclode that this is good investment"
   ]
  },
  {
   "cell_type": "markdown",
   "metadata": {},
   "source": [
    "### Research Question 3  (which director, cast, genres are in great demand?)"
   ]
  },
  {
   "cell_type": "code",
   "execution_count": null,
   "metadata": {},
   "outputs": [],
   "source": [
    "#Function to plot relation between x , y take dictionary variable\n",
    "def plot_relation_rate_dic(dic,xlabel,ylabel,message):\n",
    "    type(dic)\n",
    "    dic=dict(sorted(dic.items(), key=lambda item: item[1]))\n",
    "    plt.figure(figsize=(22, 10), dpi = 130)\n",
    "    plt.xlabel(xlabel ,fontsize = 14)\n",
    "    plt.ylabel(ylabel, fontsize = 14)\n",
    "    plt.bar(dic.keys(),dic.values())\n",
    "    plt.title('relation between {} and {} {}'.format(xlabel,ylabel,message), fontsize = 16)\n",
    "    #plt.gca().invert_yaxis()\n",
    "    plt.show();"
   ]
  },
  {
   "cell_type": "code",
   "execution_count": null,
   "metadata": {},
   "outputs": [],
   "source": [
    "#function to count each row in data frame column  and his occurance using regular expression\n",
    "def data_occurance_rate_due_profit(data):\n",
    "    temparr={}\n",
    "    for item in data:\n",
    "        try:\n",
    "            data_temp=re.search(r'[\\w\\W]+',item).group().split('|')\n",
    "           # print(data_temp)\n",
    "            for item in data_temp:\n",
    "                if(item in temparr):\n",
    "                    temparr[item]=temparr[item]+1\n",
    "                else:\n",
    "                    temparr[item]=1\n",
    "        except :\n",
    "            continue\n",
    "    return temparr"
   ]
  },
  {
   "cell_type": "code",
   "execution_count": null,
   "metadata": {},
   "outputs": [],
   "source": [
    "#Get most wanted movies geners and sort them with largest\n",
    "geners=data_occurance_rate_due_profit(tmdb_df_cleaned['genres'])\n",
    "dict(sorted(geners.items(), key=lambda item: item[1], reverse=True))"
   ]
  },
  {
   "cell_type": "markdown",
   "metadata": {},
   "source": [
    "> #### As we can see Drama then Comedy in a great demand"
   ]
  },
  {
   "cell_type": "code",
   "execution_count": null,
   "metadata": {
    "scrolled": false
   },
   "outputs": [],
   "source": [
    "# plot bar diagram for movie geners\n",
    "plot_relation_rate_dic(geners,'Movie Type','Occurance',\"of data\")"
   ]
  },
  {
   "cell_type": "code",
   "execution_count": null,
   "metadata": {
    "scrolled": true
   },
   "outputs": [],
   "source": [
    "#Get Cast that  in great demand\n",
    "cast=data_occurance_rate_due_profit(tmdb_df_cleaned['cast'])\n",
    "dict(sorted(cast.items(), key=lambda item: item[1], reverse=True))\n",
    "collections.Counter(dict(sorted(cast.items(), key=lambda item: item[1], reverse=True))).most_common(10)"
   ]
  },
  {
   "cell_type": "markdown",
   "metadata": {},
   "source": [
    "> #### As we can see 'Robert De Niro' and all above are  in great demand"
   ]
  },
  {
   "cell_type": "code",
   "execution_count": null,
   "metadata": {
    "scrolled": false
   },
   "outputs": [],
   "source": [
    "#Get Director that  in great demand\n",
    "director=data_occurance_rate_due_profit(tmdb_df_cleaned['director'])\n",
    "dict(sorted(director.items(), key=lambda item: item[1], reverse=True))\n",
    "collections.Counter(dict(sorted(director.items(), key=lambda item: item[1], reverse=True))).most_common(10)"
   ]
  },
  {
   "cell_type": "markdown",
   "metadata": {},
   "source": [
    "> #### As we can see 'Steven Spielberg' and all above are  in great demand\n",
    "> * #### we can gather cast and one of the above directors and put them in a drama ,comedy or thrill movie and that will be a great investment"
   ]
  },
  {
   "cell_type": "markdown",
   "metadata": {},
   "source": [
    "### Research Question 4  (Movies profits investment increased or decreased every year? Is it a good investment?)"
   ]
  },
  {
   "cell_type": "code",
   "execution_count": null,
   "metadata": {
    "scrolled": false
   },
   "outputs": [],
   "source": [
    "# plot the relation between movies profit per year \n",
    "profit_per_year=tmdb_df_cleaned.groupby('release_year')['profit'].sum()\n",
    "plt.figure(figsize=(12,6))\n",
    "plt.xlabel('Release year',fontsize = 12)\n",
    "plt.ylabel('Movies Profit',fontsize = 14)\n",
    "plt.title('Calculating Profits of all movies per year')\n",
    "plt.plot(profit_per_year)"
   ]
  },
  {
   "cell_type": "markdown",
   "metadata": {},
   "source": [
    "### As we can see the profits increases every year with excellent rate "
   ]
  },
  {
   "cell_type": "markdown",
   "metadata": {},
   "source": [
    "<a id='conclusions'></a>\n",
    "## Conclusions\n",
    "\n",
    "> ### Which movie has the highest Profit? Which movie has the lowest Profit?\n",
    ">\n",
    "> movie with highest profit is 'Jaws' with profit 1878643093\n",
    ">\n",
    "> movie with lowest profit is \"The Warrior's Way\" movie lose 413912431 \n",
    ">\n",
    "> ### How many documentary movies there? is investing in it waste money?\n",
    ">\n",
    ">   We have 35 documentary movies\n",
    ">\n",
    ">   found that most of documentary movie has a good success rate which is almost less than the loss rate in movies in general.\n",
    ">\n",
    "> *   we can conclude that this is good investment\n",
    ">\n",
    "> ### which director, cast, genres are in great demand?\n",
    ">\n",
    ">   Genres: ‘Drama': 1742, 'Comedy': 1340, 'Thriller': 1192, 'Action': 1074,\n",
    ">    'Adventure': 741\n",
    ">\n",
    "> *   As we can see Drama Then Comedy in a great demand\n",
    ">\n",
    ">   Cast: ‘Robert De Niro', 52), ('Bruce Willis', 46), ('Samuel L. Jackson', 3), ('Nicolas Cage', 43), ('Matt Damon', 36),     >   ('Johnny Depp', 35), ('Brad Pitt', 34), ('Tom Hanks', 34), ('Harrison Ford', 33), ('Tom Cruise', 33)\n",
    ">\n",
    "> *   As we can see 'Robert De Niro' and all above are in great demand\n",
    ">\n",
    ">    Director: Steven Spielberg', 28), ('Clint Eastwood', 24), ('Ridley Scott', 21)\n",
    ">    ('Woody Allen', 18), ('Robert Rodriguez', 17), ('Tim Burton', 17), ('Steven Soderbergh', 17), ('Martin Scorsese', 17),     >    ('Robert Zemeckis', 15), ('Renny Harlin', 15)]\n",
    ">\n",
    "> *   As we can see 'Steven Spielberg' and all above are in great demand\n",
    "> #### we can gather cast and one director from above and put them in a drama ,comedy or thrill movie and that will be a great investment.\n",
    ">\n",
    "> ### Movies profits investment increased or decreased every year? Is it a good investment?\n",
    ">\n",
    ">   As we can see the profits increases every year with excellent rate .\n",
    "\n"
   ]
  },
  {
   "cell_type": "code",
   "execution_count": null,
   "metadata": {},
   "outputs": [],
   "source": []
  }
 ],
 "metadata": {
  "kernelspec": {
   "display_name": "Python 3",
   "language": "python",
   "name": "python3"
  },
  "language_info": {
   "codemirror_mode": {
    "name": "ipython",
    "version": 3
   },
   "file_extension": ".py",
   "mimetype": "text/x-python",
   "name": "python",
   "nbconvert_exporter": "python",
   "pygments_lexer": "ipython3",
   "version": "3.8.3"
  }
 },
 "nbformat": 4,
 "nbformat_minor": 2
}
