{
 "cells": [
  {
   "cell_type": "markdown",
   "metadata": {},
   "source": [
    "\n",
    "\n",
    "# Project: Investigate a Dataset (Analysing TMDB Movie Data )\n",
    "\n",
    "## Table of Contents\n",
    "<ul>\n",
    "<li><a href=\"#intro\">Introduction</a></li>\n",
    "<li><a href=\"#wrangling\">Data Wrangling</a></li>\n",
    "<li><a href=\"#eda\">Exploratory Data Analysis</a></li>\n",
    "<li><a href=\"#conclusions\">Conclusions</a></li>\n",
    "</ul>"
   ]
  },
  {
   "cell_type": "markdown",
   "metadata": {},
   "source": [
    "<a id='intro'></a>\n",
    "## Introduction\n",
    "\n",
    "> **TMDB Movie Data**: This data set contains information about 10,000 movies collected from The Movie Database (TMDb), including user ratings and revenue.\n",
    ">\n",
    "> **Questions:**\n",
    ">\n",
    "> * Which movie has the highest Profit? Which movie has the lowest Profit?\n",
    ">\n",
    "> * How many documentary movies there? is investing in it waste money?\n",
    ">\n",
    "> * which director, cast, genres are in great demand?\n",
    ">\n",
    "> * Movies profits investigation increased or decreased every year? Is it a good investment?"
   ]
  },
  {
   "cell_type": "code",
   "execution_count": 256,
   "metadata": {},
   "outputs": [],
   "source": [
    "import pandas as pd\n",
    "import numpy as np\n",
    "from datetime import datetime\n",
    "import matplotlib.pyplot as plt\n",
    "%matplotlib inline\n",
    "import re\n",
    "import collections"
   ]
  },
  {
   "cell_type": "markdown",
   "metadata": {},
   "source": [
    "<a id='wrangling'></a>\n",
    "## Data Wrangling\n",
    "\n",
    " Data Cleaning (Replace this with more specific notes!)\n",
    "> * Remove duplicate Data\n",
    "> * Some columns we didnot need them [id,imdb_id,popularity]\n",
    "> * Change data type of release_date  to be date time\n",
    "> * Change data type of budget_adj and revenue_adj to be Integer as no need for fractions in millions no.\n",
    "> * Although budget,revenue & budget_adj,revenue_adj has the same information but i will keep both of them as\n",
    "we need budget,revenue as basic data and need budget_adj,revenue_adj for statistics purboses .\n",
    "> * Drop all Rows whitch has budget_adj,revenue_adj less than 1000$  as the data seems to be wrong .\n",
    "> * Some movies run time = 0 but we will do nothing as this column will be removed with rows with 0 budget ."
   ]
  },
  {
   "cell_type": "code",
   "execution_count": null,
   "metadata": {},
   "outputs": [],
   "source": [
    "# Load tmdb-movies into pandas \n",
    "tmdb_df=pd.read_csv(\"tmdb-movies.csv\")\n",
    "tmdb_df.head()"
   ]
  },
  {
   "cell_type": "code",
   "execution_count": null,
   "metadata": {},
   "outputs": [],
   "source": [
    "#review columns \n",
    "tmdb_df.info()"
   ]
  },
  {
   "cell_type": "code",
   "execution_count": 258,
   "metadata": {},
   "outputs": [
    {
     "data": {
      "text/plain": [
       "False    35\n",
       "dtype: int64"
      ]
     },
     "execution_count": 258,
     "metadata": {},
     "output_type": "execute_result"
    }
   ],
   "source": [
    "# check is there any duplication\n",
    "tmdb_df.duplicated().value_counts()"
   ]
  },
  {
   "cell_type": "code",
   "execution_count": 257,
   "metadata": {},
   "outputs": [
    {
     "data": {
      "text/html": [
       "<div>\n",
       "<style scoped>\n",
       "    .dataframe tbody tr th:only-of-type {\n",
       "        vertical-align: middle;\n",
       "    }\n",
       "\n",
       "    .dataframe tbody tr th {\n",
       "        vertical-align: top;\n",
       "    }\n",
       "\n",
       "    .dataframe thead th {\n",
       "        text-align: right;\n",
       "    }\n",
       "</style>\n",
       "<table border=\"1\" class=\"dataframe\">\n",
       "  <thead>\n",
       "    <tr style=\"text-align: right;\">\n",
       "      <th></th>\n",
       "      <th>budget</th>\n",
       "      <th>revenue</th>\n",
       "      <th>runtime</th>\n",
       "      <th>vote_count</th>\n",
       "      <th>vote_average</th>\n",
       "      <th>release_year</th>\n",
       "      <th>budget_adj</th>\n",
       "      <th>revenue_adj</th>\n",
       "      <th>profit</th>\n",
       "    </tr>\n",
       "  </thead>\n",
       "  <tbody>\n",
       "    <tr>\n",
       "      <th>count</th>\n",
       "      <td>3.500000e+01</td>\n",
       "      <td>3.500000e+01</td>\n",
       "      <td>35.000000</td>\n",
       "      <td>35.000000</td>\n",
       "      <td>35.000000</td>\n",
       "      <td>35.000000</td>\n",
       "      <td>3.500000e+01</td>\n",
       "      <td>3.500000e+01</td>\n",
       "      <td>3.500000e+01</td>\n",
       "    </tr>\n",
       "    <tr>\n",
       "      <th>mean</th>\n",
       "      <td>4.852976e+06</td>\n",
       "      <td>2.252440e+07</td>\n",
       "      <td>101.428571</td>\n",
       "      <td>68.628571</td>\n",
       "      <td>6.660000</td>\n",
       "      <td>2004.742857</td>\n",
       "      <td>5.379701e+06</td>\n",
       "      <td>2.480617e+07</td>\n",
       "      <td>1.942646e+07</td>\n",
       "    </tr>\n",
       "    <tr>\n",
       "      <th>std</th>\n",
       "      <td>5.725120e+06</td>\n",
       "      <td>3.229610e+07</td>\n",
       "      <td>18.129089</td>\n",
       "      <td>72.103718</td>\n",
       "      <td>0.861667</td>\n",
       "      <td>6.779480</td>\n",
       "      <td>6.460385e+06</td>\n",
       "      <td>3.532337e+07</td>\n",
       "      <td>3.207793e+07</td>\n",
       "    </tr>\n",
       "    <tr>\n",
       "      <th>min</th>\n",
       "      <td>6.000000e+03</td>\n",
       "      <td>6.000000e+03</td>\n",
       "      <td>71.000000</td>\n",
       "      <td>10.000000</td>\n",
       "      <td>4.500000</td>\n",
       "      <td>1984.000000</td>\n",
       "      <td>6.310000e+03</td>\n",
       "      <td>6.310000e+03</td>\n",
       "      <td>-3.620652e+06</td>\n",
       "    </tr>\n",
       "    <tr>\n",
       "      <th>25%</th>\n",
       "      <td>1.000000e+06</td>\n",
       "      <td>1.433030e+06</td>\n",
       "      <td>90.000000</td>\n",
       "      <td>19.000000</td>\n",
       "      <td>6.400000</td>\n",
       "      <td>2003.500000</td>\n",
       "      <td>1.066668e+06</td>\n",
       "      <td>1.622252e+06</td>\n",
       "      <td>8.756550e+04</td>\n",
       "    </tr>\n",
       "    <tr>\n",
       "      <th>50%</th>\n",
       "      <td>2.500000e+06</td>\n",
       "      <td>7.830611e+06</td>\n",
       "      <td>95.000000</td>\n",
       "      <td>27.000000</td>\n",
       "      <td>6.700000</td>\n",
       "      <td>2006.000000</td>\n",
       "      <td>3.000000e+06</td>\n",
       "      <td>1.045097e+07</td>\n",
       "      <td>5.473353e+06</td>\n",
       "    </tr>\n",
       "    <tr>\n",
       "      <th>75%</th>\n",
       "      <td>7.500000e+06</td>\n",
       "      <td>3.065102e+07</td>\n",
       "      <td>106.000000</td>\n",
       "      <td>96.000000</td>\n",
       "      <td>7.200000</td>\n",
       "      <td>2010.000000</td>\n",
       "      <td>7.825627e+06</td>\n",
       "      <td>3.140185e+07</td>\n",
       "      <td>2.451620e+07</td>\n",
       "    </tr>\n",
       "    <tr>\n",
       "      <th>max</th>\n",
       "      <td>2.000000e+07</td>\n",
       "      <td>1.191145e+08</td>\n",
       "      <td>171.000000</td>\n",
       "      <td>295.000000</td>\n",
       "      <td>8.400000</td>\n",
       "      <td>2012.000000</td>\n",
       "      <td>2.716921e+07</td>\n",
       "      <td>1.375112e+08</td>\n",
       "      <td>1.305845e+08</td>\n",
       "    </tr>\n",
       "  </tbody>\n",
       "</table>\n",
       "</div>"
      ],
      "text/plain": [
       "             budget       revenue     runtime  vote_count  vote_average  \\\n",
       "count  3.500000e+01  3.500000e+01   35.000000   35.000000     35.000000   \n",
       "mean   4.852976e+06  2.252440e+07  101.428571   68.628571      6.660000   \n",
       "std    5.725120e+06  3.229610e+07   18.129089   72.103718      0.861667   \n",
       "min    6.000000e+03  6.000000e+03   71.000000   10.000000      4.500000   \n",
       "25%    1.000000e+06  1.433030e+06   90.000000   19.000000      6.400000   \n",
       "50%    2.500000e+06  7.830611e+06   95.000000   27.000000      6.700000   \n",
       "75%    7.500000e+06  3.065102e+07  106.000000   96.000000      7.200000   \n",
       "max    2.000000e+07  1.191145e+08  171.000000  295.000000      8.400000   \n",
       "\n",
       "       release_year    budget_adj   revenue_adj        profit  \n",
       "count     35.000000  3.500000e+01  3.500000e+01  3.500000e+01  \n",
       "mean    2004.742857  5.379701e+06  2.480617e+07  1.942646e+07  \n",
       "std        6.779480  6.460385e+06  3.532337e+07  3.207793e+07  \n",
       "min     1984.000000  6.310000e+03  6.310000e+03 -3.620652e+06  \n",
       "25%     2003.500000  1.066668e+06  1.622252e+06  8.756550e+04  \n",
       "50%     2006.000000  3.000000e+06  1.045097e+07  5.473353e+06  \n",
       "75%     2010.000000  7.825627e+06  3.140185e+07  2.451620e+07  \n",
       "max     2012.000000  2.716921e+07  1.375112e+08  1.305845e+08  "
      ]
     },
     "execution_count": 257,
     "metadata": {},
     "output_type": "execute_result"
    }
   ],
   "source": [
    "# show statistics of whole data\n",
    "tmdb_df.describe()"
   ]
  },
  {
   "cell_type": "markdown",
   "metadata": {},
   "source": [
    "\n",
    "### Data Cleaning \n",
    "> * Remove duplicate Data\n",
    "> * Some columns we didnot need them [id,imdb_id,popularity]\n",
    "> * Change data type of release_date  to be date time\n",
    "> * Change data type of budget_adj and revenue_adj to be Integer as no need for fractions in millions no.\n",
    "> * Although budget,revenue & budget_adj,revenue_adj has the same information but i will keep both of them as\n",
    "we need budget,revenue as basic data and need budget_adj,revenue_adj for statistics purboses .\n",
    "> * Drop all Rows whitch has budget_adj,revenue_adj less than 100$  as the data seems to be wrong .\n",
    "> * Some movies run time = 0 but we will do nothing as this column will be removed with rows with 0 budget ."
   ]
  },
  {
   "cell_type": "code",
   "execution_count": null,
   "metadata": {},
   "outputs": [],
   "source": [
    "# Make copy of data to clean\n",
    "tmdb_df_cleaned=tmdb_df.copy()"
   ]
  },
  {
   "cell_type": "code",
   "execution_count": null,
   "metadata": {
    "scrolled": true
   },
   "outputs": [],
   "source": [
    "#Drop duplicate values\n",
    "tmdb_df_cleaned.drop_duplicates(inplace=True)"
   ]
  },
  {
   "cell_type": "code",
   "execution_count": null,
   "metadata": {},
   "outputs": [],
   "source": [
    "#drop columns that i will not use and contain no important data  [id,imdb_id,popularity] \n",
    "tmdb_df_cleaned.drop(columns=['id','imdb_id','popularity'],inplace=True)"
   ]
  },
  {
   "cell_type": "code",
   "execution_count": null,
   "metadata": {},
   "outputs": [],
   "source": [
    "#test the drop operation \n",
    "tmdb_df_cleaned.head(2)"
   ]
  },
  {
   "cell_type": "code",
   "execution_count": null,
   "metadata": {},
   "outputs": [],
   "source": [
    "#Change Data type of  release_date to date time\n",
    "tmdb_df_cleaned['release_date']=pd.to_datetime(tmdb_df_cleaned['release_date'])\n",
    "tmdb_df_cleaned.head(2)"
   ]
  },
  {
   "cell_type": "code",
   "execution_count": null,
   "metadata": {},
   "outputs": [],
   "source": [
    "#test Data type of  release_date\n",
    "tmdb_df_cleaned.info()"
   ]
  },
  {
   "cell_type": "code",
   "execution_count": null,
   "metadata": {
    "scrolled": true
   },
   "outputs": [],
   "source": [
    "#Change data type of budget_adj and revenue_adj to be Integer as no need for fractions in millions or billions .\n",
    "col=['budget_adj','revenue_adj']\n",
    "tmdb_df_cleaned[col]=tmdb_df_cleaned[col].astype(int)\n",
    "tmdb_df_cleaned.head(2)"
   ]
  },
  {
   "cell_type": "code",
   "execution_count": null,
   "metadata": {
    "scrolled": false
   },
   "outputs": [],
   "source": [
    "#test Change data type of budget_adj and revenue_adj\n",
    "tmdb_df_cleaned.info()"
   ]
  },
  {
   "cell_type": "code",
   "execution_count": null,
   "metadata": {},
   "outputs": [],
   "source": [
    "# drop all data >100$ in budget_adj and revenue_adj\n",
    "tmdb_df_cleaned=tmdb_df_cleaned[(tmdb_df_cleaned['budget_adj']>100) & (tmdb_df_cleaned['revenue_adj']>100)]\n",
    "tmdb_df_cleaned.head(2)"
   ]
  },
  {
   "cell_type": "code",
   "execution_count": null,
   "metadata": {},
   "outputs": [],
   "source": [
    "#test the drop operation \n",
    "tmdb_df_cleaned.info()"
   ]
  },
  {
   "cell_type": "markdown",
   "metadata": {},
   "source": [
    "<a id='eda'></a>\n",
    "## Exploratory Data Analysis\n",
    "\n",
    "> **Questions:**\n",
    ">\n",
    "> * Which movie has the highest Profit? Which movie has the lowest Profit?\n",
    ">\n",
    "> * How many documentary movies there? is investing in it waste money?\n",
    ">\n",
    "> * which director, cast, genres are in great demand?\n",
    ">\n",
    "> * Movies profits investigation increased or decreased every year? Is it a good investment?\n",
    "\n",
    "### Research Question 1 (Which movie has the highest Profit? Which movie has the lowest Profit?)"
   ]
  },
  {
   "cell_type": "code",
   "execution_count": null,
   "metadata": {},
   "outputs": [],
   "source": [
    "# calculate the profit for all  movies\n",
    "tmdb_df_cleaned['profit']=tmdb_df_cleaned['revenue_adj']-tmdb_df_cleaned['budget_adj']"
   ]
  },
  {
   "cell_type": "code",
   "execution_count": null,
   "metadata": {
    "scrolled": true
   },
   "outputs": [],
   "source": [
    "# movie with highest revenue\n",
    "tmdb_df_cleaned[tmdb_df_cleaned['profit']==tmdb_df_cleaned['profit'].max()]"
   ]
  },
  {
   "cell_type": "code",
   "execution_count": 226,
   "metadata": {},
   "outputs": [
    {
     "data": {
      "text/plain": [
       "count    3.815000e+03\n",
       "mean     9.126899e+07\n",
       "std      1.793574e+08\n",
       "min     -4.139124e+08\n",
       "25%     -1.493570e+06\n",
       "50%      2.805089e+07\n",
       "75%      1.079842e+08\n",
       "max      1.878643e+09\n",
       "Name: profit, dtype: float64"
      ]
     },
     "execution_count": 226,
     "metadata": {},
     "output_type": "execute_result"
    }
   ],
   "source": [
    "tmdb_df_cleaned['profit'].describe()"
   ]
  },
  {
   "cell_type": "code",
   "execution_count": null,
   "metadata": {
    "scrolled": true
   },
   "outputs": [],
   "source": [
    "# movie with lowest revenue\n",
    "tmdb_df_cleaned[tmdb_df_cleaned['profit']==tmdb_df_cleaned['profit'].min()]"
   ]
  },
  {
   "cell_type": "code",
   "execution_count": null,
   "metadata": {},
   "outputs": [],
   "source": [
    "tmdb_df_cleaned['profit'].nlargest(10)"
   ]
  },
  {
   "cell_type": "code",
   "execution_count": null,
   "metadata": {
    "scrolled": false
   },
   "outputs": [],
   "source": [
    "tmdb_top_10_revenue=tmdb_df_cleaned[lambda x :x['profit'] >= 1246626367]\n",
    "tmdb_top_10_revenue.head(2)"
   ]
  },
  {
   "cell_type": "code",
   "execution_count": null,
   "metadata": {},
   "outputs": [],
   "source": [
    "tmdb_df_cleaned['profit'].nsmallest(10)"
   ]
  },
  {
   "cell_type": "code",
   "execution_count": null,
   "metadata": {
    "scrolled": true
   },
   "outputs": [],
   "source": [
    "tmdb_min_10_revenue=tmdb_df_cleaned[lambda x :x['profit'] <= -91445050]\n",
    "tmdb_min_10_revenue"
   ]
  },
  {
   "cell_type": "code",
   "execution_count": null,
   "metadata": {},
   "outputs": [],
   "source": [
    "#Function to plot relation between x , y\n",
    "def plot_relation_rate(stage,xlabel,ylabel,message):\n",
    "    type(stage)\n",
    "    stage=stage.sort_values()\n",
    "    plt.figure(figsize=(14, 9))\n",
    "    plt.barh(stage.index,stage.array)\n",
    "    plt.xlabel(xlabel, fontsize = 14)\n",
    "    plt.title('relation between {} and {} {}'.format(xlabel,ylabel,message), fontsize = 16)\n",
    "    #plt.gca().invert_yaxis()\n",
    "    plt.show();"
   ]
  },
  {
   "cell_type": "code",
   "execution_count": null,
   "metadata": {
    "scrolled": true
   },
   "outputs": [],
   "source": [
    "top_stage=tmdb_top_10_revenue.groupby(['original_title'])['profit'].sum()\n",
    "top_stage.astype('int64')\n",
    "plot_relation_rate(top_stage,'profit','Movie',\"top 10\")"
   ]
  },
  {
   "cell_type": "code",
   "execution_count": null,
   "metadata": {},
   "outputs": [],
   "source": [
    "top_stage=tmdb_top_10_revenue.groupby(['director'])['profit'].sum()\n",
    "top_stage.astype('int64')\n",
    "plot_relation_rate(top_stage,'profit','Director',\"TOP 10\")"
   ]
  },
  {
   "cell_type": "code",
   "execution_count": null,
   "metadata": {},
   "outputs": [],
   "source": [
    "top_stage=tmdb_min_10_revenue.groupby(['director'])['profit'].sum()\n",
    "top_stage.astype('int64')\n",
    "plot_relation_rate(top_stage,'profit','Director','Lowest 10')"
   ]
  },
  {
   "cell_type": "code",
   "execution_count": null,
   "metadata": {},
   "outputs": [],
   "source": [
    "top_stage=tmdb_min_10_revenue.groupby(['original_title'])['profit'].sum()\n",
    "top_stage.astype('int64')\n",
    "plot_relation_rate(top_stage,'profit','Movie',\"Lowest 10\")"
   ]
  },
  {
   "cell_type": "markdown",
   "metadata": {},
   "source": [
    "### Research Question 2  (How many documentary movies there? is investing in it waste money?)"
   ]
  },
  {
   "cell_type": "code",
   "execution_count": null,
   "metadata": {},
   "outputs": [],
   "source": [
    "# How many documentry movie What about those movies profit and compare with all movies profit\n",
    "tmdb_df=tmdb_df_cleaned[tmdb_df_cleaned['genres'].str.contains('Documentary')]"
   ]
  },
  {
   "cell_type": "code",
   "execution_count": null,
   "metadata": {},
   "outputs": [],
   "source": [
    "# there is about 35 documentary movie and the relation between profit and movies\n",
    "top_stage=tmdb_df.groupby(['original_title'])['profit'].sum()\n",
    "top_stage.astype('int64')\n",
    "plot_relation_rate(top_stage,'Profit','Documentry',\"Movie\")"
   ]
  },
  {
   "cell_type": "code",
   "execution_count": 253,
   "metadata": {},
   "outputs": [
    {
     "data": {
      "image/png": "[encoded data removed]",
      "text/plain": [
       "<Figure size 1008x648 with 1 Axes>"
      ]
     },
     "metadata": {
      "needs_background": "light"
     },
     "output_type": "display_data"
    }
   ],
   "source": [
    "#compare the precentage of losing movies budget>revenue  in both all movies and documentry movies\n",
    "fail_d_movies=tmdb_df[tmdb_df['profit']<=0].count().max()\n",
    "all_d_movies=tmdb_df['profit'].count().max()\n",
    "percentage_fail_documentry_movies=(fail_d_movies/all_d_movies)*100\n",
    "percentage_fail_all_movies=((tmdb_df_cleaned[tmdb_df_cleaned['profit']<=0].count().max())/(tmdb_df_cleaned['profit'].count().max()))*100\n",
    "plt.figure(figsize=(14, 9))\n",
    "plt.barh(['percentage_fail_documentry_movies','percentage_fail_all_movies'],[percentage_fail_documentry_movies,percentage_fail_all_movies])\n",
    "plt.title('Relation between losing Documentry movies and all movies', fontsize = 16)\n",
    "plt.show();"
   ]
  },
  {
   "cell_type": "code",
   "execution_count": null,
   "metadata": {},
   "outputs": [],
   "source": [
    "tmdb_df_cleaned.to_csv(\"cleaned_tmdb.csv\",index=0)"
   ]
  },
  {
   "cell_type": "markdown",
   "metadata": {},
   "source": [
    "### Research Question 3  (which director, cast, genres are in great demand?)"
   ]
  },
  {
   "cell_type": "code",
   "execution_count": 254,
   "metadata": {},
   "outputs": [],
   "source": [
    "#Function to plot relation between x , y\n",
    "def plot_relation_rate_dic(dic,xlabel,ylabel,message):\n",
    "    type(dic)\n",
    "    dic=dict(sorted(dic.items(), key=lambda item: item[1]))\n",
    "    plt.figure(figsize=(22, 10), dpi = 130)\n",
    "    plt.xlabel(xlabel ,fontsize = 14)\n",
    "    plt.ylabel(ylabel, fontsize = 14)\n",
    "    plt.bar(dic.keys(),dic.values())\n",
    "    plt.title('relation between {} and {} {}'.format(xlabel,ylabel,message), fontsize = 16)\n",
    "    #plt.gca().invert_yaxis()\n",
    "    plt.show();"
   ]
  },
  {
   "cell_type": "code",
   "execution_count": 247,
   "metadata": {},
   "outputs": [],
   "source": [
    "#function to count each one and his occurance\n",
    "def data_occurance_rate_due_profit(data):\n",
    "    temparr={}\n",
    "    temp=data\n",
    "    for item in temp:\n",
    "        try:\n",
    "            data_temp=re.search(r'[\\w\\W]+',item).group().split('|')\n",
    "           # print(data_temp)\n",
    "            for item in data_temp:\n",
    "                if(item in temparr):\n",
    "                    temparr[item]=temparr[item]+1\n",
    "                else:\n",
    "                    temparr[item]=1\n",
    "        except :\n",
    "            continue\n",
    "    return temparr"
   ]
  },
  {
   "cell_type": "code",
   "execution_count": 248,
   "metadata": {
    "scrolled": true
   },
   "outputs": [
    {
     "data": {
      "text/plain": [
       "{'Drama': 1742,\n",
       " 'Comedy': 1340,\n",
       " 'Thriller': 1192,\n",
       " 'Action': 1074,\n",
       " 'Adventure': 741,\n",
       " 'Romance': 656,\n",
       " 'Crime': 649,\n",
       " 'Science Fiction': 514,\n",
       " 'Horror': 457,\n",
       " 'Family': 420,\n",
       " 'Fantasy': 390,\n",
       " 'Mystery': 343,\n",
       " 'Animation': 199,\n",
       " 'Music': 133,\n",
       " 'History': 128,\n",
       " 'War': 119,\n",
       " 'Western': 52,\n",
       " 'Documentary': 35,\n",
       " 'Foreign': 13,\n",
       " 'TV Movie': 1}"
      ]
     },
     "execution_count": 248,
     "metadata": {},
     "output_type": "execute_result"
    }
   ],
   "source": [
    "#Get most wanted movies geners and sort them with largest\n",
    "geners=data_occurance_rate_due_profit(tmdb_df_cleaned['genres'])\n",
    "dict(sorted(geners.items(), key=lambda item: item[1], reverse=True))"
   ]
  },
  {
   "cell_type": "code",
   "execution_count": 255,
   "metadata": {
    "scrolled": false
   },
   "outputs": [
    {
     "data": {
      "image/png": "[encoded data removed]",
      "text/plain": [
       "<Figure size 2860x1300 with 1 Axes>"
      ]
     },
     "metadata": {
      "needs_background": "light"
     },
     "output_type": "display_data"
    }
   ],
   "source": [
    "# plot bar diagram for movie geners\n",
    "plot_relation_rate_dic(geners,'Movie Type','Occurance',\"of data\")"
   ]
  },
  {
   "cell_type": "code",
   "execution_count": 250,
   "metadata": {
    "scrolled": false
   },
   "outputs": [
    {
     "data": {
      "text/plain": [
       "[('Robert De Niro', 52),\n",
       " ('Bruce Willis', 46),\n",
       " ('Samuel L. Jackson', 43),\n",
       " ('Nicolas Cage', 43),\n",
       " ('Matt Damon', 36),\n",
       " ('Johnny Depp', 35),\n",
       " ('Brad Pitt', 34),\n",
       " ('Tom Hanks', 34),\n",
       " ('Harrison Ford', 33),\n",
       " ('Tom Cruise', 33)]"
      ]
     },
     "execution_count": 250,
     "metadata": {},
     "output_type": "execute_result"
    }
   ],
   "source": [
    "#Get Cast that  in great demand\n",
    "cast=data_occurance_rate_due_profit(tmdb_df_cleaned['cast'])\n",
    "dict(sorted(cast.items(), key=lambda item: item[1], reverse=True))\n",
    "collections.Counter(dict(sorted(cast.items(), key=lambda item: item[1], reverse=True))).most_common(10)"
   ]
  },
  {
   "cell_type": "code",
   "execution_count": null,
   "metadata": {},
   "outputs": [],
   "source": [
    "#Get Director that  in great demand\n",
    "director=data_occurance_rate_due_profit(tmdb_df_cleaned['director'])\n",
    "dict(sorted(director.items(), key=lambda item: item[1], reverse=True))\n",
    "collections.Counter(dict(sorted(director.items(), key=lambda item: item[1], reverse=True))).most_common(10)"
   ]
  },
  {
   "cell_type": "markdown",
   "metadata": {},
   "source": [
    "### Research Question 4  (Movies profits investment increased or decreased every year? Is it a good investment?)"
   ]
  },
  {
   "cell_type": "code",
   "execution_count": 223,
   "metadata": {
    "scrolled": false
   },
   "outputs": [
    {
     "data": {
      "text/plain": [
       "[<matplotlib.lines.Line2D at 0x23ed2b6dfa0>]"
      ]
     },
     "execution_count": 223,
     "metadata": {},
     "output_type": "execute_result"
    },
    {
     "data": {
      "image/png": "[encoded data removed]",
      "text/plain": [
       "<Figure size 864x432 with 1 Axes>"
      ]
     },
     "metadata": {
      "needs_background": "light"
     },
     "output_type": "display_data"
    }
   ],
   "source": [
    "# plot the relation between movies profit per year \n",
    "profit_per_year=tmdb_df_cleaned.groupby('release_year')['profit'].sum()\n",
    "plt.figure(figsize=(12,6))\n",
    "plt.xlabel('Release year',fontsize = 12)\n",
    "plt.ylabel('Movies Profit',fontsize = 14)\n",
    "plt.title('Calculating Profits of all movies per year')\n",
    "plt.plot(profit_per_year)"
   ]
  },
  {
   "cell_type": "markdown",
   "metadata": {},
   "source": [
    "### As we can see the profits increases every year with excellent rate "
   ]
  },
  {
   "cell_type": "markdown",
   "metadata": {},
   "source": [
    "<a id='conclusions'></a>\n",
    "## Conclusions\n",
    "\n",
    "> **Tip**: Finally, summarize your findings and the results that have been performed. Make sure that you are clear with regards to the limitations of your exploration. If you haven't done any statistical tests, do not imply any statistical conclusions. And make sure you avoid implying causation from correlation!\n",
    "\n",
    "> **Tip**: Once you are satisfied with your work, you should save a copy of the report in HTML or PDF form via the **File** > **Download as** submenu. Before exporting your report, check over it to make sure that the flow of the report is complete. You should probably remove all of the \"Tip\" quotes like this one so that the presentation is as tidy as possible. Congratulations!"
   ]
  },
  {
   "cell_type": "code",
   "execution_count": null,
   "metadata": {},
   "outputs": [],
   "source": []
  }
 ],
 "metadata": {
  "kernelspec": {
   "display_name": "Python 3",
   "language": "python",
   "name": "python3"
  },
  "language_info": {
   "codemirror_mode": {
    "name": "ipython",
    "version": 3
   },
   "file_extension": ".py",
   "mimetype": "text/x-python",
   "name": "python",
   "nbconvert_exporter": "python",
   "pygments_lexer": "ipython3",
   "version": "3.8.3"
  }
 },
 "nbformat": 4,
 "nbformat_minor": 2
}
